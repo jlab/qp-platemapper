{
 "cells": [
  {
   "cell_type": "code",
   "execution_count": 1,
   "metadata": {},
   "outputs": [],
   "source": [
    "import pandas as pd\n",
    "from skbio.stats.ordination import OrdinationResults\n",
    "# Für später wahrscheinlich\n",
    "# from qiime2.plugins import emperor\n",
    "# from qiime2.plugins import diversity\n"
   ]
  },
  {
   "cell_type": "markdown",
   "metadata": {},
   "source": [
    "1: Dataframe erstellen mit metadata.tsv datei"
   ]
  },
  {
   "cell_type": "markdown",
   "metadata": {},
   "source": [
    "1.1: Einlesen des Metadata file"
   ]
  },
  {
   "cell_type": "code",
   "execution_count": null,
   "metadata": {},
   "outputs": [],
   "source": [
    "df1 = pd.read_csv('/home/sven/Desktop/testing/testkurth/meta_plate.tsv' , sep='\\t')\n",
    "#Path ist noch lokal, work in progress\n",
    "df2 = df1"
   ]
  },
  {
   "cell_type": "markdown",
   "metadata": {},
   "source": [
    "1.2 Falls Metadata file einen anderen namen als well_id haben sollte dann namen finden und umbenennen, anschließend checken ob well_id teil der indizes ist.\n",
    "okay also problem, sobald die metadata file bereits den spaltennamen \"well_id\" enthält will die conversion nicht mehr funktionieren. Auch der untere Code bekommt es (noch) nicht hin."
   ]
  },
  {
   "cell_type": "code",
   "execution_count": 3,
   "metadata": {},
   "outputs": [
    {
     "name": "stdout",
     "output_type": "stream",
     "text": [
      "beide Werte in spalte: sample_well_y\n",
      "Index(['sample_name', 'active_disease_symptoms', 'age', 'age_unit',\n",
      "       'allergies', 'anti_nuclear_antibody', 'anti_nuclear_antibody_positiv',\n",
      "       'antibiotics_last_6_months', 'biopsy', 'body_product',\n",
      "       ...\n",
      "       'platform', 'primer', 'qiita_prep_id', 'run_center', 'run_date',\n",
      "       'run_prefix', 'sequencing_meth', 'target_gene', 'target_subfragment',\n",
      "       'well_id'],\n",
      "      dtype='object', length=126)\n"
     ]
    }
   ],
   "source": [
    "werte = [\"A1\", \"A2\"] # Das hier muss noch unbedingt mit regex gemacht werden für den wahrscheinlichen fall dass auf der \n",
    "#plate die ersten beiden wells nicht benutzt werden.\n",
    "\n",
    "# Passende Spalte finden und umbenennen\n",
    "if \"well_id\" not in df2.columns:\n",
    "    for spalte in df2.columns:\n",
    "        if all(wert in df2[spalte].values for wert in werte):\n",
    "            print(f\"beide Werte in spalte: {spalte}\")\n",
    "else:\n",
    "    1\n",
    "   \n",
    "df2 = df2.rename(columns={spalte: \"well_id\"}) \n",
    "# testing: nachschauen ob es geklappt hat\n",
    "print(df2.columns)\n",
    "\n"
   ]
  },
  {
   "cell_type": "markdown",
   "metadata": {},
   "source": [
    "Faxen (also wirklich nur faxen, es gibt eine so viel bessere idee und die werde ich dann auch machen allerdings funktioniert das hier (leider gottes) und es erlaubt mir die weiteren schritte zu gehen.)"
   ]
  },
  {
   "cell_type": "code",
   "execution_count": 4,
   "metadata": {},
   "outputs": [],
   "source": [
    "\n",
    "df2[\"well_id\"] = df2[\"well_id\"].str.replace(\"A\", \"8, \", regex=False)\n",
    "df2[\"well_id\"] = df2[\"well_id\"].str.replace(\"B\", \"7, \", regex=False)\n",
    "df2[\"well_id\"] = df2[\"well_id\"].str.replace(\"C\", \"6, \", regex=False)\n",
    "df2[\"well_id\"] = df2[\"well_id\"].str.replace(\"D\", \"5, \", regex=False)\n",
    "df2[\"well_id\"] = df2[\"well_id\"].str.replace(\"E\", \"4, \", regex=False)\n",
    "df2[\"well_id\"] = df2[\"well_id\"].str.replace(\"F\", \"3, \", regex=False)\n",
    "df2[\"well_id\"] = df2[\"well_id\"].str.replace(\"G\", \"2, \", regex=False)\n",
    "df2[\"well_id\"] = df2[\"well_id\"].str.replace(\"H\", \"1, \", regex=False)"
   ]
  },
  {
   "cell_type": "markdown",
   "metadata": {},
   "source": [
    "1.3: Das große Metadata file verkleinern in die für die Ordination interessanten Informationen(sample_name, well_id) herausfiltern"
   ]
  },
  {
   "cell_type": "code",
   "execution_count": 5,
   "metadata": {},
   "outputs": [
    {
     "name": "stdout",
     "output_type": "stream",
     "text": [
      "<bound method NDFrame.head of              sample_name well_id\n",
      "0           14813.POAF61    3, 2\n",
      "1          14813.POASW56    2, 1\n",
      "2          14813.POASW59    8, 1\n",
      "3          14813.POASW61    5, 2\n",
      "4          14813.POASW63    1, 3\n",
      "5          14813.POASW64    3, 3\n",
      "6          14813.POASW65    6, 3\n",
      "7          14813.POASW66    8, 3\n",
      "8          14813.POASW69    2, 4\n",
      "9          14813.POASW71    5, 4\n",
      "10         14813.POASW72    7, 4\n",
      "11         14813.POASW80    6, 5\n",
      "12         14813.POASW81    8, 5\n",
      "13         14813.POASW83    1, 6\n",
      "14         14813.POASZ56    1, 1\n",
      "15         14813.POASZ57    3, 1\n",
      "16         14813.POASZ59    7, 1\n",
      "17         14813.POASZ61    4, 2\n",
      "18         14813.POASZ63    8, 2\n",
      "19         14813.POASZ64    2, 3\n",
      "20         14813.POASZ65    5, 3\n",
      "21         14813.POASZ66    7, 3\n",
      "22         14813.POASZ69    1, 4\n",
      "23         14813.POASZ70    3, 4\n",
      "24         14813.POASZ71    4, 4\n",
      "25         14813.POASZ72    6, 4\n",
      "26         14813.POASZ81    7, 5\n",
      "27         14813.POASZ85    2, 6\n",
      "28         14813.PORSW57    4, 1\n",
      "29         14813.PORSW58    6, 1\n",
      "30         14813.PORSW60    2, 2\n",
      "31         14813.PORSW62    7, 2\n",
      "32         14813.PORSW73    1, 5\n",
      "33         14813.PORSW76    3, 5\n",
      "34         14813.PORSW77    5, 5\n",
      "35         14813.PORSW90    4, 6\n",
      "36         14813.PORSW91    6, 6\n",
      "37         14813.PORSW93    8, 6\n",
      "38         14813.PORSW94    2, 7\n",
      "39         14813.PORSW95    4, 7\n",
      "40         14813.PORSZ58    5, 1\n",
      "41         14813.PORSZ60    1, 2\n",
      "42         14813.PORSZ62    6, 2\n",
      "43         14813.PORSZ64    4, 3\n",
      "44         14813.PORSZ73    8, 4\n",
      "45         14813.PORSZ76    2, 5\n",
      "46         14813.PORSZ77    4, 5\n",
      "47         14813.PORSZ90    3, 6\n",
      "48         14813.PORSZ91    5, 6\n",
      "49         14813.PORSZ93    7, 6\n",
      "50         14813.PORSZ94    1, 7\n",
      "51         14813.PORSZ95    3, 7\n",
      "52  14813.watercontrol53    5, 7\n",
      "53  14813.watercontrol54    6, 7\n",
      "54  14813.watercontrol55    7, 7\n",
      "55  14813.watercontrol56    8, 7>\n"
     ]
    }
   ],
   "source": [
    "tempSamples = pd.concat([\n",
    "    df2[\"sample_name\"],\n",
    "    df2[\"well_id\"]],\n",
    "    axis =1 \n",
    "    )\n",
    "\n",
    "# Sehr wichtig: Es kann passieren dass in sample_name mehr rows \n",
    "# existieren als well_id werte, dann packt der code fälschlicherweise NaN values auf die row.\n",
    "# Hiermit versucht man dem ein bisschen entgegenzuwirken und so far funktioniert es\n",
    "x = 0\n",
    "for val in tempSamples[\"well_id\"].values:\n",
    "    x += 1\n",
    "    if type(val) is not str:\n",
    "        print(type(val)) # NaN ist n float\n",
    "        print(tempSamples.sample_name.values[x-1])\n",
    "        tempSamples = tempSamples.drop(x - 1)\n",
    "\n",
    "# testing: worked?\n",
    "print(tempSamples.head)\n"
   ]
  },
  {
   "cell_type": "markdown",
   "metadata": {},
   "source": [
    "Ab hier, Chatgpt war die inspiration, nach kurzem googlen hab ich herausgefunden wie ich das für mich umschreiben muss. \n",
    "\n",
    "1.4: Die zusammengesetzten Zahlen der well_id trennen und in zwei spalten (Axis1, Axis2) trennen. Zum ende hin die nummern als float ausgeben lassen da es mit str vermutlich noch weniger funktioniert. "
   ]
  },
  {
   "cell_type": "code",
   "execution_count": 6,
   "metadata": {},
   "outputs": [
    {
     "name": "stdout",
     "output_type": "stream",
     "text": [
      "               Axis1  Axis2\n",
      "sample_name                \n",
      "14813.POAF61     2.0    3.0\n",
      "14813.POASW56    1.0    2.0\n",
      "14813.POASW59    1.0    8.0\n",
      "14813.POASW61    2.0    5.0\n",
      "14813.POASW63    3.0    1.0\n",
      "14813.POASW64    3.0    3.0\n",
      "14813.POASW65    3.0    6.0\n"
     ]
    }
   ],
   "source": [
    "#split\n",
    "tempSamples[[\"Axis1\", \"Axis2\"]] = tempSamples[\"well_id\"].str.split(',', n=1, expand=True)\n",
    "#datentypen fest deklarieren\n",
    "# dabei schon die Achsen tauschen, da:\n",
    "#     x -------->\n",
    "#         0 1 2 3 ...\n",
    "# y   a \n",
    "# |   b\n",
    "# |   c\n",
    "# |\n",
    "# Im Originalzustand enthält Axis1 die a,b,c... werte und Axis2 die 0-12 werte, die ordination datei nimmt als erste achse halt x\n",
    "\n",
    "\n",
    "#\"Drehen\" der beiden Achsen\n",
    "temp = tempSamples[\"Axis1\"]\n",
    "tempSamples[\"Axis1\"] = tempSamples[\"Axis2\"].astype(float)\n",
    "tempSamples[\"Axis2\"] = temp.astype(float)\n",
    "\n",
    "#finalen dataframe erstellen aus welchem auch die ordination am ende entsteht\n",
    "samples = pd.DataFrame(\n",
    "    data=tempSamples[[\"Axis1\", \"Axis2\"]].values,\n",
    "    index=tempSamples[\"sample_name\"],\n",
    "    columns=[\"Axis1\", \"Axis2\"]\n",
    ")\n",
    "#test\n",
    "print(samples.head(7))"
   ]
  },
  {
   "cell_type": "markdown",
   "metadata": {},
   "source": [
    "2.1: Eigenvalues und proportion_explained. Einfach fantasiewerte einfügen"
   ]
  },
  {
   "cell_type": "code",
   "execution_count": 7,
   "metadata": {},
   "outputs": [],
   "source": [
    "eigvals = pd.Series([0.5, 0.3])\n",
    "proportion_explained = pd.Series([0.5758, 0.4242])\n"
   ]
  },
  {
   "cell_type": "markdown",
   "metadata": {},
   "source": [
    "2.2: Erstellung der Ordination und export als ordination.txt"
   ]
  },
  {
   "cell_type": "code",
   "execution_count": 8,
   "metadata": {},
   "outputs": [],
   "source": [
    "ordination = OrdinationResults(\n",
    "    \"Manual\",\n",
    "    \"Parsed well ID ordination\",\n",
    "    eigvals,\n",
    "    samples,\n",
    "    proportion_explained = proportion_explained\n",
    ")\n"
   ]
  },
  {
   "cell_type": "code",
   "execution_count": 9,
   "metadata": {},
   "outputs": [],
   "source": [
    "with open(\"ordination.txt\", \"w\") as f:\n",
    "    \n",
    "    ordination.write(f, format=\"ordination\")"
   ]
  },
  {
   "cell_type": "markdown",
   "metadata": {},
   "source": [
    "Nächster Teil: mit Python automatisch einen Path und Ordner für das alles erstellen und dann darüber automatisch die .qzv zu erstellen.\n",
    "Probleme die ich immernoch habe:    \n",
    "- Der Code kann nur eine plate erstellen(falls mehr koordinaten als plätze auf wells, und dann auch noch gleich, dann bomba)\n",
    "    - vielleicht dem Programm sagen, sobald mehr als 96 wellids da sind dann pack die in einen dateframe und geh weitere 96 schritte AUßER wir haben etabliert es handelt sich um eine 384x plate\n",
    "    - ODER: bei mehreren gleichen well_ids nach irgendeinem Alleinstellungsmerkmal(krank,gesund) filtern und danach mehrere\n",
    "    plates erzeugen.\n",
    "- 384x plates sind noch nicht möglich (probably easiest to do)\n",
    "    - Vielleicht irgendwie es schaffen, dem code zu sagen wie viele wells in einem Metafile stecken, demnach in mehrere Dataframes unterteilen\n",
    "    - in etwa so: for vals in df2[\"Axis1\"] if df2[\"Axis1\"].values >=13 && df2[\"Axis2\"].values >=9 dann 384 well plate\n",
    "- Qiime2 befehle Integration in den Code, skip the Terminal"
   ]
  },
  {
   "cell_type": "markdown",
   "metadata": {},
   "source": []
  }
 ],
 "metadata": {
  "kernelspec": {
   "display_name": "qiime2-amplicon-2024.10",
   "language": "python",
   "name": "python3"
  },
  "language_info": {
   "codemirror_mode": {
    "name": "ipython",
    "version": 3
   },
   "file_extension": ".py",
   "mimetype": "text/x-python",
   "name": "python",
   "nbconvert_exporter": "python",
   "pygments_lexer": "ipython3",
   "version": "3.10.14"
  }
 },
 "nbformat": 4,
 "nbformat_minor": 2
}
